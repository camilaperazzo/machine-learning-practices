{
  "cells": [
    {
      "cell_type": "markdown",
      "source": [
        "# ☕ Apresentação"
      ],
      "metadata": {
        "id": "d9jPMX-eW_7k"
      },
      "id": "d9jPMX-eW_7k"
    },
    {
      "cell_type": "markdown",
      "id": "3669a663",
      "metadata": {
        "id": "3669a663"
      },
      "source": [
        "## Detecção de Fraudes em Transações de Cartão de Crédito\n"
      ]
    },
    {
      "cell_type": "markdown",
      "source": [
        "**Aluna:** Camila Perazzo"
      ],
      "metadata": {
        "id": "EQFPSVlVXU8T"
      },
      "id": "EQFPSVlVXU8T"
    },
    {
      "cell_type": "markdown",
      "id": "6b46b976",
      "metadata": {
        "id": "6b46b976"
      },
      "source": [
        "**Atividade:** Melhorando a performance de algoritmos de aprendizado de máquina com engenharia de features - 21/06/2023"
      ]
    },
    {
      "cell_type": "markdown",
      "id": "03b2c6a4",
      "metadata": {
        "id": "03b2c6a4"
      },
      "source": [
        "## Tarefas:\n",
        "\n",
        "1. **Carregue o dataset \"creditcard.csv\"** e faça uma exploração inicial dos dados. Verifique o número de amostras, o número de características, a distribuição das classes (fraude vs. transações legítimas) e se há algum desbalanceamento.\n",
        "2. **Pré-processamento dos dados:**\n",
        "- Verifique se existem valores ausentes no dataset e decida como lidar com eles.\n",
        "- Normalize as características numéricas para garantir que todas tenham a mesma escala.\n",
        "- Separe os dados em conjuntos de treinamento e teste.\n",
        "3. **Engenharia de features:**\n",
        "- Identifique se há características irrelevantes ou redundantes que possam ser removidas.\n",
        "- Utilize técnicas de seleção de características, como a técnica do Qui-quadrado ou a análise de correlação, para identificar as características mais relevantes para o problema.\n",
        "4. **Aplicação da LDA:**\n",
        "- Realize a LDA para reduzir a dimensionalidade dos dados e projetá-los em um novo espaço de características.\n",
        "- Avalie a quantidade de informação preservada após a projeção e discuta a importância dessa redução dimensional.\n",
        "5. **Aplicação do PCA:**\n",
        "- Realize o PCA para reduzir a dimensionalidade dos dados e projetá-los em um novo espaço de características.\n",
        "- Verifique a quantidade de informação preservada após a projeção e discuta a importância dessa redução dimensional.\n",
        "6. **Treinamento e avaliação dos modelos:**\n",
        "- Escolha dois algoritmos de aprendizado de máquina adequados para o problema de detecção de fraudes, como SVM (Máquinas de Vetores de Suporte) e Random Forest (Florestas Aleatórias).\n",
        "- Treine os modelos nos dados originais e compare suas performances usando métricas como acurácia, precisão, recall e F1-score.\n",
        "- Repita o treinamento e avaliação dos modelos nos dados após a aplicação da LDA e do PCA, e compare novamente as performances.\n",
        "7. **Discussão dos resultados:**\n",
        "- Analise os resultados obtidos e discuta as melhorias ou piorias na performance dos modelos após a aplicação das técnicas de engenharia de features, LDA e PCA.\n",
        "- Explique possíveis razões para essas mudanças de desempenho e discuta a utilidade dessas técnicas no contexto da detecção de fraudes."
      ]
    },
    {
      "cell_type": "markdown",
      "source": [
        "# 1. Carregar o dataset e explorar os dados"
      ],
      "metadata": {
        "id": "ztQn-VD8ijY1"
      },
      "id": "ztQn-VD8ijY1"
    },
    {
      "cell_type": "code",
      "source": [
        "import pandas as pd\n",
        "\n",
        "# Carregar o dataset\n",
        "data = pd.read_csv('creditcard.csv')\n",
        "\n",
        "# Verificar o número de amostras e características\n",
        "num_samples = data.shape[0]\n",
        "num_features = data.shape[1] - 1  # Desconsiderando a coluna de classes\n",
        "\n",
        "# Verificar a distribuição das classes\n",
        "class_counts = data['Class'].value_counts()\n",
        "\n",
        "# Verificar se há desbalanceamento\n",
        "class_balance = class_counts / num_samples\n",
        "\n",
        "print(\"Número de amostras:\", num_samples)\n",
        "print(\"Número de características:\", num_features)\n",
        "print(\"Distribuição das classes:\")\n",
        "print(class_counts)\n",
        "print(\"Desbalanceamento das classes:\")\n",
        "print(class_balance)\n"
      ],
      "metadata": {
        "colab": {
          "base_uri": "https://localhost:8080/"
        },
        "id": "k2j8ZiuWXjfD",
        "outputId": "4282dd80-be0a-4201-f254-1c7460177726"
      },
      "id": "k2j8ZiuWXjfD",
      "execution_count": null,
      "outputs": [
        {
          "output_type": "stream",
          "name": "stdout",
          "text": [
            "Número de amostras: 284807\n",
            "Número de características: 30\n",
            "Distribuição das classes:\n",
            "0    284315\n",
            "1       492\n",
            "Name: Class, dtype: int64\n",
            "Desbalanceamento das classes:\n",
            "0    0.998273\n",
            "1    0.001727\n",
            "Name: Class, dtype: float64\n"
          ]
        }
      ]
    },
    {
      "cell_type": "code",
      "source": [
        "print(data.dtypes)"
      ],
      "metadata": {
        "id": "ZywXX1zXaNqR",
        "colab": {
          "base_uri": "https://localhost:8080/"
        },
        "outputId": "ce3fbe44-fcd5-4bb9-f6cb-54f453653872"
      },
      "id": "ZywXX1zXaNqR",
      "execution_count": null,
      "outputs": [
        {
          "output_type": "stream",
          "name": "stdout",
          "text": [
            "Time      float64\n",
            "V1        float64\n",
            "V2        float64\n",
            "V3        float64\n",
            "V4        float64\n",
            "V5        float64\n",
            "V6        float64\n",
            "V7        float64\n",
            "V8        float64\n",
            "V9        float64\n",
            "V10       float64\n",
            "V11       float64\n",
            "V12       float64\n",
            "V13       float64\n",
            "V14       float64\n",
            "V15       float64\n",
            "V16       float64\n",
            "V17       float64\n",
            "V18       float64\n",
            "V19       float64\n",
            "V20       float64\n",
            "V21       float64\n",
            "V22       float64\n",
            "V23       float64\n",
            "V24       float64\n",
            "V25       float64\n",
            "V26       float64\n",
            "V27       float64\n",
            "V28       float64\n",
            "Amount    float64\n",
            "Class       int64\n",
            "dtype: object\n"
          ]
        }
      ]
    },
    {
      "cell_type": "markdown",
      "source": [
        "# 2. Pré-processamento dos dados"
      ],
      "metadata": {
        "id": "BDi-75Uqi6XJ"
      },
      "id": "BDi-75Uqi6XJ"
    },
    {
      "cell_type": "code",
      "source": [
        "from sklearn.model_selection import train_test_split\n",
        "from sklearn.preprocessing import StandardScaler\n",
        "from sklearn.impute import SimpleImputer\n",
        "\n",
        "# Verificar valores ausentes\n",
        "print(\"Valores ausentes antes do tratamento:\")\n",
        "print(data.isnull().sum().sum())\n",
        "\n",
        "# Remover valores ausentes\n",
        "data_clean = data.dropna()\n",
        "\n",
        "# Verificar novamente valores ausentes\n",
        "print(\"Valores ausentes após a remoção:\")\n",
        "print(data_clean.isnull().sum().sum())\n",
        "\n",
        "# Separar as características e classes\n",
        "X = data_clean.drop('Class', axis=1)\n",
        "y = data_clean['Class']\n",
        "\n",
        "# Normalizar as características numéricas\n",
        "scaler = StandardScaler()\n",
        "X_scaled = scaler.fit_transform(X)\n",
        "\n",
        "# Separar em conjuntos de treinamento e teste\n",
        "X_train, X_test, y_train, y_test = train_test_split(X_scaled, y, test_size=0.2, random_state=42)\n"
      ],
      "metadata": {
        "id": "pJwkPSPgWBzx",
        "colab": {
          "base_uri": "https://localhost:8080/"
        },
        "outputId": "29b3bdec-9622-4d69-865b-8bfed722df10"
      },
      "id": "pJwkPSPgWBzx",
      "execution_count": null,
      "outputs": [
        {
          "output_type": "stream",
          "name": "stdout",
          "text": [
            "Valores ausentes antes do tratamento:\n",
            "0\n",
            "Valores ausentes após a remoção:\n",
            "0\n"
          ]
        }
      ]
    },
    {
      "cell_type": "code",
      "source": [
        "data.head(5)"
      ],
      "metadata": {
        "colab": {
          "base_uri": "https://localhost:8080/",
          "height": 300
        },
        "id": "HJNU0ySFLe9q",
        "outputId": "10b3a5ab-2115-417e-e11e-fe3cb6295fae"
      },
      "id": "HJNU0ySFLe9q",
      "execution_count": null,
      "outputs": [
        {
          "output_type": "execute_result",
          "data": {
            "text/plain": [
              "   Time        V1        V2        V3        V4        V5        V6        V7  \\\n",
              "0   0.0 -1.359807 -0.072781  2.536347  1.378155 -0.338321  0.462388  0.239599   \n",
              "1   0.0  1.191857  0.266151  0.166480  0.448154  0.060018 -0.082361 -0.078803   \n",
              "2   1.0 -1.358354 -1.340163  1.773209  0.379780 -0.503198  1.800499  0.791461   \n",
              "3   1.0 -0.966272 -0.185226  1.792993 -0.863291 -0.010309  1.247203  0.237609   \n",
              "4   2.0 -1.158233  0.877737  1.548718  0.403034 -0.407193  0.095921  0.592941   \n",
              "\n",
              "         V8        V9  ...       V21       V22       V23       V24       V25  \\\n",
              "0  0.098698  0.363787  ... -0.018307  0.277838 -0.110474  0.066928  0.128539   \n",
              "1  0.085102 -0.255425  ... -0.225775 -0.638672  0.101288 -0.339846  0.167170   \n",
              "2  0.247676 -1.514654  ...  0.247998  0.771679  0.909412 -0.689281 -0.327642   \n",
              "3  0.377436 -1.387024  ... -0.108300  0.005274 -0.190321 -1.175575  0.647376   \n",
              "4 -0.270533  0.817739  ... -0.009431  0.798278 -0.137458  0.141267 -0.206010   \n",
              "\n",
              "        V26       V27       V28  Amount  Class  \n",
              "0 -0.189115  0.133558 -0.021053  149.62      0  \n",
              "1  0.125895 -0.008983  0.014724    2.69      0  \n",
              "2 -0.139097 -0.055353 -0.059752  378.66      0  \n",
              "3 -0.221929  0.062723  0.061458  123.50      0  \n",
              "4  0.502292  0.219422  0.215153   69.99      0  \n",
              "\n",
              "[5 rows x 31 columns]"
            ],
            "text/html": [
              "\n",
              "  <div id=\"df-e0c20ef8-8214-4fb9-b669-a0e9ac4c79eb\">\n",
              "    <div class=\"colab-df-container\">\n",
              "      <div>\n",
              "<style scoped>\n",
              "    .dataframe tbody tr th:only-of-type {\n",
              "        vertical-align: middle;\n",
              "    }\n",
              "\n",
              "    .dataframe tbody tr th {\n",
              "        vertical-align: top;\n",
              "    }\n",
              "\n",
              "    .dataframe thead th {\n",
              "        text-align: right;\n",
              "    }\n",
              "</style>\n",
              "<table border=\"1\" class=\"dataframe\">\n",
              "  <thead>\n",
              "    <tr style=\"text-align: right;\">\n",
              "      <th></th>\n",
              "      <th>Time</th>\n",
              "      <th>V1</th>\n",
              "      <th>V2</th>\n",
              "      <th>V3</th>\n",
              "      <th>V4</th>\n",
              "      <th>V5</th>\n",
              "      <th>V6</th>\n",
              "      <th>V7</th>\n",
              "      <th>V8</th>\n",
              "      <th>V9</th>\n",
              "      <th>...</th>\n",
              "      <th>V21</th>\n",
              "      <th>V22</th>\n",
              "      <th>V23</th>\n",
              "      <th>V24</th>\n",
              "      <th>V25</th>\n",
              "      <th>V26</th>\n",
              "      <th>V27</th>\n",
              "      <th>V28</th>\n",
              "      <th>Amount</th>\n",
              "      <th>Class</th>\n",
              "    </tr>\n",
              "  </thead>\n",
              "  <tbody>\n",
              "    <tr>\n",
              "      <th>0</th>\n",
              "      <td>0.0</td>\n",
              "      <td>-1.359807</td>\n",
              "      <td>-0.072781</td>\n",
              "      <td>2.536347</td>\n",
              "      <td>1.378155</td>\n",
              "      <td>-0.338321</td>\n",
              "      <td>0.462388</td>\n",
              "      <td>0.239599</td>\n",
              "      <td>0.098698</td>\n",
              "      <td>0.363787</td>\n",
              "      <td>...</td>\n",
              "      <td>-0.018307</td>\n",
              "      <td>0.277838</td>\n",
              "      <td>-0.110474</td>\n",
              "      <td>0.066928</td>\n",
              "      <td>0.128539</td>\n",
              "      <td>-0.189115</td>\n",
              "      <td>0.133558</td>\n",
              "      <td>-0.021053</td>\n",
              "      <td>149.62</td>\n",
              "      <td>0</td>\n",
              "    </tr>\n",
              "    <tr>\n",
              "      <th>1</th>\n",
              "      <td>0.0</td>\n",
              "      <td>1.191857</td>\n",
              "      <td>0.266151</td>\n",
              "      <td>0.166480</td>\n",
              "      <td>0.448154</td>\n",
              "      <td>0.060018</td>\n",
              "      <td>-0.082361</td>\n",
              "      <td>-0.078803</td>\n",
              "      <td>0.085102</td>\n",
              "      <td>-0.255425</td>\n",
              "      <td>...</td>\n",
              "      <td>-0.225775</td>\n",
              "      <td>-0.638672</td>\n",
              "      <td>0.101288</td>\n",
              "      <td>-0.339846</td>\n",
              "      <td>0.167170</td>\n",
              "      <td>0.125895</td>\n",
              "      <td>-0.008983</td>\n",
              "      <td>0.014724</td>\n",
              "      <td>2.69</td>\n",
              "      <td>0</td>\n",
              "    </tr>\n",
              "    <tr>\n",
              "      <th>2</th>\n",
              "      <td>1.0</td>\n",
              "      <td>-1.358354</td>\n",
              "      <td>-1.340163</td>\n",
              "      <td>1.773209</td>\n",
              "      <td>0.379780</td>\n",
              "      <td>-0.503198</td>\n",
              "      <td>1.800499</td>\n",
              "      <td>0.791461</td>\n",
              "      <td>0.247676</td>\n",
              "      <td>-1.514654</td>\n",
              "      <td>...</td>\n",
              "      <td>0.247998</td>\n",
              "      <td>0.771679</td>\n",
              "      <td>0.909412</td>\n",
              "      <td>-0.689281</td>\n",
              "      <td>-0.327642</td>\n",
              "      <td>-0.139097</td>\n",
              "      <td>-0.055353</td>\n",
              "      <td>-0.059752</td>\n",
              "      <td>378.66</td>\n",
              "      <td>0</td>\n",
              "    </tr>\n",
              "    <tr>\n",
              "      <th>3</th>\n",
              "      <td>1.0</td>\n",
              "      <td>-0.966272</td>\n",
              "      <td>-0.185226</td>\n",
              "      <td>1.792993</td>\n",
              "      <td>-0.863291</td>\n",
              "      <td>-0.010309</td>\n",
              "      <td>1.247203</td>\n",
              "      <td>0.237609</td>\n",
              "      <td>0.377436</td>\n",
              "      <td>-1.387024</td>\n",
              "      <td>...</td>\n",
              "      <td>-0.108300</td>\n",
              "      <td>0.005274</td>\n",
              "      <td>-0.190321</td>\n",
              "      <td>-1.175575</td>\n",
              "      <td>0.647376</td>\n",
              "      <td>-0.221929</td>\n",
              "      <td>0.062723</td>\n",
              "      <td>0.061458</td>\n",
              "      <td>123.50</td>\n",
              "      <td>0</td>\n",
              "    </tr>\n",
              "    <tr>\n",
              "      <th>4</th>\n",
              "      <td>2.0</td>\n",
              "      <td>-1.158233</td>\n",
              "      <td>0.877737</td>\n",
              "      <td>1.548718</td>\n",
              "      <td>0.403034</td>\n",
              "      <td>-0.407193</td>\n",
              "      <td>0.095921</td>\n",
              "      <td>0.592941</td>\n",
              "      <td>-0.270533</td>\n",
              "      <td>0.817739</td>\n",
              "      <td>...</td>\n",
              "      <td>-0.009431</td>\n",
              "      <td>0.798278</td>\n",
              "      <td>-0.137458</td>\n",
              "      <td>0.141267</td>\n",
              "      <td>-0.206010</td>\n",
              "      <td>0.502292</td>\n",
              "      <td>0.219422</td>\n",
              "      <td>0.215153</td>\n",
              "      <td>69.99</td>\n",
              "      <td>0</td>\n",
              "    </tr>\n",
              "  </tbody>\n",
              "</table>\n",
              "<p>5 rows × 31 columns</p>\n",
              "</div>\n",
              "      <button class=\"colab-df-convert\" onclick=\"convertToInteractive('df-e0c20ef8-8214-4fb9-b669-a0e9ac4c79eb')\"\n",
              "              title=\"Convert this dataframe to an interactive table.\"\n",
              "              style=\"display:none;\">\n",
              "        \n",
              "  <svg xmlns=\"http://www.w3.org/2000/svg\" height=\"24px\"viewBox=\"0 0 24 24\"\n",
              "       width=\"24px\">\n",
              "    <path d=\"M0 0h24v24H0V0z\" fill=\"none\"/>\n",
              "    <path d=\"M18.56 5.44l.94 2.06.94-2.06 2.06-.94-2.06-.94-.94-2.06-.94 2.06-2.06.94zm-11 1L8.5 8.5l.94-2.06 2.06-.94-2.06-.94L8.5 2.5l-.94 2.06-2.06.94zm10 10l.94 2.06.94-2.06 2.06-.94-2.06-.94-.94-2.06-.94 2.06-2.06.94z\"/><path d=\"M17.41 7.96l-1.37-1.37c-.4-.4-.92-.59-1.43-.59-.52 0-1.04.2-1.43.59L10.3 9.45l-7.72 7.72c-.78.78-.78 2.05 0 2.83L4 21.41c.39.39.9.59 1.41.59.51 0 1.02-.2 1.41-.59l7.78-7.78 2.81-2.81c.8-.78.8-2.07 0-2.86zM5.41 20L4 18.59l7.72-7.72 1.47 1.35L5.41 20z\"/>\n",
              "  </svg>\n",
              "      </button>\n",
              "      \n",
              "  <style>\n",
              "    .colab-df-container {\n",
              "      display:flex;\n",
              "      flex-wrap:wrap;\n",
              "      gap: 12px;\n",
              "    }\n",
              "\n",
              "    .colab-df-convert {\n",
              "      background-color: #E8F0FE;\n",
              "      border: none;\n",
              "      border-radius: 50%;\n",
              "      cursor: pointer;\n",
              "      display: none;\n",
              "      fill: #1967D2;\n",
              "      height: 32px;\n",
              "      padding: 0 0 0 0;\n",
              "      width: 32px;\n",
              "    }\n",
              "\n",
              "    .colab-df-convert:hover {\n",
              "      background-color: #E2EBFA;\n",
              "      box-shadow: 0px 1px 2px rgba(60, 64, 67, 0.3), 0px 1px 3px 1px rgba(60, 64, 67, 0.15);\n",
              "      fill: #174EA6;\n",
              "    }\n",
              "\n",
              "    [theme=dark] .colab-df-convert {\n",
              "      background-color: #3B4455;\n",
              "      fill: #D2E3FC;\n",
              "    }\n",
              "\n",
              "    [theme=dark] .colab-df-convert:hover {\n",
              "      background-color: #434B5C;\n",
              "      box-shadow: 0px 1px 3px 1px rgba(0, 0, 0, 0.15);\n",
              "      filter: drop-shadow(0px 1px 2px rgba(0, 0, 0, 0.3));\n",
              "      fill: #FFFFFF;\n",
              "    }\n",
              "  </style>\n",
              "\n",
              "      <script>\n",
              "        const buttonEl =\n",
              "          document.querySelector('#df-e0c20ef8-8214-4fb9-b669-a0e9ac4c79eb button.colab-df-convert');\n",
              "        buttonEl.style.display =\n",
              "          google.colab.kernel.accessAllowed ? 'block' : 'none';\n",
              "\n",
              "        async function convertToInteractive(key) {\n",
              "          const element = document.querySelector('#df-e0c20ef8-8214-4fb9-b669-a0e9ac4c79eb');\n",
              "          const dataTable =\n",
              "            await google.colab.kernel.invokeFunction('convertToInteractive',\n",
              "                                                     [key], {});\n",
              "          if (!dataTable) return;\n",
              "\n",
              "          const docLinkHtml = 'Like what you see? Visit the ' +\n",
              "            '<a target=\"_blank\" href=https://colab.research.google.com/notebooks/data_table.ipynb>data table notebook</a>'\n",
              "            + ' to learn more about interactive tables.';\n",
              "          element.innerHTML = '';\n",
              "          dataTable['output_type'] = 'display_data';\n",
              "          await google.colab.output.renderOutput(dataTable, element);\n",
              "          const docLink = document.createElement('div');\n",
              "          docLink.innerHTML = docLinkHtml;\n",
              "          element.appendChild(docLink);\n",
              "        }\n",
              "      </script>\n",
              "    </div>\n",
              "  </div>\n",
              "  "
            ]
          },
          "metadata": {},
          "execution_count": 245
        }
      ]
    },
    {
      "cell_type": "markdown",
      "source": [
        "# 3. Engenharia de features\n"
      ],
      "metadata": {
        "id": "_wsA-Ha5i-t9"
      },
      "id": "_wsA-Ha5i-t9"
    },
    {
      "cell_type": "code",
      "source": [
        "import matplotlib.pyplot as plt\n",
        "import seaborn as sns\n",
        "\n",
        "# Calcular a matriz de correlação\n",
        "corr_matrix = data_clean.corr()\n",
        "\n",
        "# Plotar um heatmap da matriz de correlação\n",
        "plt.figure(figsize=(12, 10))\n",
        "sns.heatmap(corr_matrix, cmap='coolwarm', annot=False)\n",
        "plt.title('Matriz de Correlação')\n",
        "plt.show()\n"
      ],
      "metadata": {
        "id": "yn5ceYf2XqJu",
        "colab": {
          "base_uri": "https://localhost:8080/",
          "height": 893
        },
        "outputId": "c97b7356-67a2-4b08-d38f-f68753a1b177"
      },
      "id": "yn5ceYf2XqJu",
      "execution_count": null,
      "outputs": [
        {
          "output_type": "display_data",
          "data": {
            "text/plain": [
              "<Figure size 1200x1000 with 2 Axes>"
            ],
            "image/png": "[encoded data removed]"
          },
          "metadata": {}
        }
      ]
    },
    {
      "cell_type": "markdown",
      "source": [
        "# 4. Aplicação da LDA"
      ],
      "metadata": {
        "id": "nNk4JTiZjCyg"
      },
      "id": "nNk4JTiZjCyg"
    },
    {
      "cell_type": "code",
      "source": [
        "from sklearn.discriminant_analysis import LinearDiscriminantAnalysis as LDA\n",
        "\n",
        "# Realizar LDA\n",
        "lda = LDA(n_components=1)\n",
        "X_train_lda = lda.fit_transform(X_train, y_train)\n",
        "X_test_lda = lda.transform(X_test)\n",
        "\n",
        "# Avaliar a quantidade de informação preservada\n",
        "explained_variance_ratio = lda.explained_variance_ratio_\n",
        "\n",
        "print(\"Quantidade de informação preservada após LDA:\", explained_variance_ratio)"
      ],
      "metadata": {
        "colab": {
          "base_uri": "https://localhost:8080/"
        },
        "id": "BDZrd3eVUfKI",
        "outputId": "7cbb3663-a2df-4dc3-bdc3-f04a13912a90"
      },
      "id": "BDZrd3eVUfKI",
      "execution_count": null,
      "outputs": [
        {
          "output_type": "stream",
          "name": "stdout",
          "text": [
            "Quantidade de informação preservada após LDA: [1.]\n"
          ]
        }
      ]
    },
    {
      "cell_type": "markdown",
      "source": [
        "# 5. Aplicação do PCA"
      ],
      "metadata": {
        "id": "r-GWQZ6qjHBB"
      },
      "id": "r-GWQZ6qjHBB"
    },
    {
      "cell_type": "code",
      "source": [
        "from sklearn.decomposition import PCA\n",
        "\n",
        "# Realizar PCA\n",
        "pca = PCA(n_components=1)\n",
        "X_train_pca = pca.fit_transform(X_train)\n",
        "X_test_pca = pca.transform(X_test)\n",
        "\n",
        "# Avaliar a quantidade de informação preservada\n",
        "explained_variance_ratio = pca.explained_variance_ratio_\n",
        "\n",
        "print(\"Quantidade de informação preservada após PCA:\", explained_variance_ratio)"
      ],
      "metadata": {
        "id": "frdeKJdmX3KT",
        "colab": {
          "base_uri": "https://localhost:8080/"
        },
        "outputId": "9c5bb8c8-f29b-4e25-cfd1-5a493c3ae6fa"
      },
      "id": "frdeKJdmX3KT",
      "execution_count": null,
      "outputs": [
        {
          "output_type": "stream",
          "name": "stdout",
          "text": [
            "Quantidade de informação preservada após PCA: [0.06769237]\n"
          ]
        }
      ]
    },
    {
      "cell_type": "markdown",
      "source": [
        "# 6. Treinamento e avaliação dos modelos"
      ],
      "metadata": {
        "id": "DOUvpbZEjMtN"
      },
      "id": "DOUvpbZEjMtN"
    },
    {
      "cell_type": "code",
      "source": [
        "from sklearn.model_selection import train_test_split\n",
        "from sklearn.svm import SVC\n",
        "from sklearn.ensemble import RandomForestClassifier\n",
        "from sklearn.metrics import accuracy_score, precision_score, recall_score, f1_score\n",
        "\n",
        "# Reduzir a quantidade de dados para acelerar a execução\n",
        "X_train_small, _, y_train_small, _ = train_test_split(X_train, y_train, test_size=0.8, random_state=42)\n",
        "\n",
        "# Treinar e avaliar modelos nos dados originais\n",
        "svm_original = SVC(random_state=42)\n",
        "rf_original = RandomForestClassifier(random_state=42)\n",
        "\n",
        "svm_original.fit(X_train_small, y_train_small)\n",
        "rf_original.fit(X_train_small, y_train_small)\n",
        "\n",
        "svm_original_pred = svm_original.predict(X_test)\n",
        "rf_original_pred = rf_original.predict(X_test)\n",
        "\n",
        "print(\"Resultados nos dados originais:\")\n",
        "print(\"SVM - Acurácia:\", accuracy_score(y_test, svm_original_pred))\n",
        "print(\"SVM - Precisão:\", precision_score(y_test, svm_original_pred))\n",
        "print(\"SVM - Recall:\", recall_score(y_test, svm_original_pred))\n",
        "print(\"SVM - F1-score:\", f1_score(y_test, svm_original_pred))\n",
        "print(\"Random Forest - Acurácia:\", accuracy_score(y_test, rf_original_pred))\n",
        "print(\"Random Forest - Precisão:\", precision_score(y_test, rf_original_pred))\n",
        "print(\"Random Forest - Recall:\", recall_score(y_test, rf_original_pred))\n",
        "print(\"Random Forest - F1-score:\", f1_score(y_test, rf_original_pred))\n",
        "\n",
        "\n"
      ],
      "metadata": {
        "id": "ezkkct57X69J",
        "colab": {
          "base_uri": "https://localhost:8080/"
        },
        "outputId": "466c6dc3-e473-40a2-9ffd-5ce263380f6f"
      },
      "id": "ezkkct57X69J",
      "execution_count": null,
      "outputs": [
        {
          "output_type": "stream",
          "name": "stdout",
          "text": [
            "Resultados nos dados originais:\n",
            "SVM - Acurácia: 0.9990168884519505\n",
            "SVM - Precisão: 0.9772727272727273\n",
            "SVM - Recall: 0.4387755102040816\n",
            "SVM - F1-score: 0.6056338028169014\n",
            "Random Forest - Acurácia: 0.999403110845827\n",
            "Random Forest - Precisão: 0.9324324324324325\n",
            "Random Forest - Recall: 0.7040816326530612\n",
            "Random Forest - F1-score: 0.8023255813953488\n"
          ]
        }
      ]
    },
    {
      "cell_type": "code",
      "source": [
        "# Treinar e avaliar modelos nos dados após LDA\n",
        "svm_lda = SVC(random_state=42)\n",
        "rf_lda = RandomForestClassifier(random_state=42)\n",
        "\n",
        "svm_lda.fit(X_train_lda, y_train)\n",
        "rf_lda.fit(X_train_lda, y_train)\n",
        "\n",
        "svm_lda_pred = svm_lda.predict(X_test_lda)\n",
        "rf_lda_pred = rf_lda.predict(X_test_lda)\n",
        "\n",
        "print(\"Resultados após LDA:\")\n",
        "print(\"SVM - Acurácia:\", accuracy_score(y_test, svm_lda_pred))\n",
        "print(\"SVM - Precisão:\", precision_score(y_test, svm_lda_pred))\n",
        "print(\"SVM - Recall:\", recall_score(y_test, svm_lda_pred))\n",
        "print(\"SVM - F1-score:\", f1_score(y_test, svm_lda_pred))\n",
        "print(\"Random Forest - Acurácia:\", accuracy_score(y_test, rf_lda_pred))\n",
        "print(\"Random Forest - Precisão:\", precision_score(y_test, rf_lda_pred))\n",
        "print(\"Random Forest - Recall:\", recall_score(y_test, rf_lda_pred))\n",
        "print(\"Random Forest - F1-score:\", f1_score(y_test, rf_lda_pred))\n",
        "\n"
      ],
      "metadata": {
        "id": "smdca-yEbWLG",
        "colab": {
          "base_uri": "https://localhost:8080/"
        },
        "outputId": "cc8e0f27-958b-4933-da21-023639e0be69"
      },
      "id": "smdca-yEbWLG",
      "execution_count": null,
      "outputs": [
        {
          "output_type": "stream",
          "name": "stdout",
          "text": [
            "Resultados após LDA:\n",
            "SVM - Acurácia: 0.999403110845827\n",
            "SVM - Precisão: 0.8636363636363636\n",
            "SVM - Recall: 0.7755102040816326\n",
            "SVM - F1-score: 0.8172043010752688\n",
            "Random Forest - Acurácia: 0.9991046662687406\n",
            "Random Forest - Precisão: 0.7526881720430108\n",
            "Random Forest - Recall: 0.7142857142857143\n",
            "Random Forest - F1-score: 0.7329842931937173\n"
          ]
        }
      ]
    },
    {
      "cell_type": "code",
      "source": [
        "# Treinar e avaliar modelos nos dados após PCA\n",
        "svm_pca = SVC(random_state=42)\n",
        "rf_pca = RandomForestClassifier(random_state=42)\n",
        "\n",
        "svm_pca.fit(X_train_pca, y_train)\n",
        "rf_pca.fit(X_train_pca, y_train)\n",
        "\n",
        "svm_pca_pred = svm_pca.predict(X_test_pca)\n",
        "rf_pca_pred = rf_pca.predict(X_test_pca)\n",
        "\n",
        "print(\"Resultados após PCA:\")\n",
        "print(\"SVM - Acurácia:\", accuracy_score(y_test, svm_pca_pred))\n",
        "print(\"SVM - Precisão:\", precision_score(y_test, svm_pca_pred))\n",
        "print(\"SVM - Recall:\", recall_score(y_test, svm_pca_pred))\n",
        "print(\"SVM - F1-score:\", f1_score(y_test, svm_pca_pred))\n",
        "print(\"Random Forest - Acurácia:\", accuracy_score(y_test, rf_pca_pred))\n",
        "print(\"Random Forest - Precisão:\", precision_score(y_test, rf_pca_pred))\n",
        "print(\"Random Forest - Recall:\", recall_score(y_test, rf_pca_pred))\n",
        "print(\"Random Forest - F1-score:\", f1_score(y_test, rf_pca_pred))\n"
      ],
      "metadata": {
        "id": "5VK2n6_vbZL7",
        "colab": {
          "base_uri": "https://localhost:8080/"
        },
        "outputId": "2ec9250f-2bd6-4ec6-af5e-2ca1c6c54e77"
      },
      "id": "5VK2n6_vbZL7",
      "execution_count": null,
      "outputs": [
        {
          "output_type": "stream",
          "name": "stdout",
          "text": [
            "Resultados após PCA:\n",
            "SVM - Acurácia: 0.9982795547909132\n",
            "SVM - Precisão: 0.0\n",
            "SVM - Recall: 0.0\n",
            "SVM - F1-score: 0.0\n",
            "Random Forest - Acurácia: 0.9963835539482462\n",
            "Random Forest - Precisão: 0.0\n",
            "Random Forest - Recall: 0.0\n",
            "Random Forest - F1-score: 0.0\n"
          ]
        },
        {
          "output_type": "stream",
          "name": "stderr",
          "text": [
            "/usr/local/lib/python3.10/dist-packages/sklearn/metrics/_classification.py:1344: UndefinedMetricWarning: Precision is ill-defined and being set to 0.0 due to no predicted samples. Use `zero_division` parameter to control this behavior.\n",
            "  _warn_prf(average, modifier, msg_start, len(result))\n"
          ]
        }
      ]
    },
    {
      "cell_type": "markdown",
      "source": [
        "# 7. Conclusões\n",
        "\n",
        "Comparando os resultados, podemos observar o seguinte:\n",
        "\n",
        "* No caso do SVM, tanto após a aplicação do LDA quanto do PCA, houve um aumento na acurácia em relação aos dados originais. No entanto, a precisão, recall e F1-score variaram para cada técnica. No geral, o SVM após o LDA obteve melhor desempenho em todas as métricas em comparação com os dados originais e o SVM após o PCA.\n",
        "\n",
        "* No caso do Random Forest, após a aplicação do LDA, houve uma ligeira queda na acurácia, mas houve um aumento na precisão e no F1-score. Já após o PCA, houve uma queda significativa em todas as métricas de desempenho.\n",
        "\n",
        "Portanto, podemos concluir que a técnica de LDA foi mais eficaz em melhorar o desempenho dos modelos SVM e Random Forest em comparação com os dados originais, enquanto a técnica de PCA teve um impacto negativo no desempenho dos modelos."
      ],
      "metadata": {
        "id": "3c5Dy2QUHjIt"
      },
      "id": "3c5Dy2QUHjIt"
    }
  ],
  "metadata": {
    "kernelspec": {
      "display_name": "Python 3 (ipykernel)",
      "language": "python",
      "name": "python3"
    },
    "language_info": {
      "codemirror_mode": {
        "name": "ipython",
        "version": 3
      },
      "file_extension": ".py",
      "mimetype": "text/x-python",
      "name": "python",
      "nbconvert_exporter": "python",
      "pygments_lexer": "ipython3",
      "version": "3.9.12"
    },
    "colab": {
      "provenance": [],
      "toc_visible": true
    }
  },
  "nbformat": 4,
  "nbformat_minor": 5
}