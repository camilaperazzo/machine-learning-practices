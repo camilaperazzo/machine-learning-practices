{
  "nbformat": 4,
  "nbformat_minor": 0,
  "metadata": {
    "colab": {
      "provenance": []
    },
    "kernelspec": {
      "name": "python3",
      "display_name": "Python 3"
    },
    "language_info": {
      "name": "python"
    }
  },
  "cells": [
    {
      "cell_type": "markdown",
      "source": [
        "# ✨ Apresentação"
      ],
      "metadata": {
        "id": "O9bEIUA93QmC"
      }
    },
    {
      "cell_type": "markdown",
      "source": [
        "**Curso**: Machine Learning\n"
      ],
      "metadata": {
        "id": "epLozVA8q3E_"
      }
    },
    {
      "cell_type": "markdown",
      "source": [
        "**Alunas**: Camila Perazzo (RA:23022407)  e Sara Bandeira (RA:23022315)"
      ],
      "metadata": {
        "id": "6IKshMO8rHoA"
      }
    },
    {
      "cell_type": "markdown",
      "source": [
        "**Atividade de Implementação de modelos e verificação de eficiência da estratégia adotada com utilização de redes neurais - 16/06/2023.**"
      ],
      "metadata": {
        "id": "w0n6uciw280C"
      }
    },
    {
      "cell_type": "markdown",
      "source": [
        "# 🎯 Questões"
      ],
      "metadata": {
        "id": "3VdQRPkI0MUe"
      }
    },
    {
      "cell_type": "markdown",
      "source": [
        "### Passos a seguir:\n",
        "\n",
        "1. Faça a importação do conjunto de dados a partir do dataset fornecido.\n",
        "2. Importe as bibliotecas necessárias: pandas, numpy, torch, torchvision, etc.\n",
        "3. Carregue o conjunto de dados usando a biblioteca Pandas.\n",
        "4. Realize o pré-processamento necessário no conjunto de dados, incluindo a categorização dos valores da coluna \"popularity\" em três classes (0, 1 e 2) usando a função pd.cut.\n",
        "5. Realize a codificação one-hot das colunas \"artist\" e \"top genre\" usando a função onehot_encode.\n",
        "6. Separe o conjunto de dados em recursos (X) e rótulos de destino (y). Descarte as colunas irrelevantes para o modelo.\n",
        "7. Converta os dados para tensores do PyTorch.\n",
        "8. Crie uma classe CTDataset que herda torch.utils.data.Dataset e implemente os métodos __init__, __len__ e __getitem__ para representar o conjunto de dados.\n",
        "7. Divida o conjunto de dados em conjuntos de treinamento, validação e teste usando a função random_split do PyTorch, de acordo com as proporções especificadas.\n",
        "8. Crie carregadores de dados (DataLoader) para cada conjunto, com um tamanho de lote (batch size) adequado.\n",
        "9. Defina a arquitetura da rede neural no PyTorch, incluindo as camadas Linear necessárias.\n",
        "10. Defina a função de perda (loss function) como CrossEntropyLoss e o otimizador como Adam.\n",
        "11. Mova o modelo para a GPU, se disponível, para acelerar o treinamento.\n",
        "12. Execute o treinamento do modelo por um número específico de épocas, calculando a perda média ao longo das iterações de treinamento.\n",
        "13. Avalie o desempenho do modelo nos conjuntos de validação e teste, calculando a acurácia, precisão, recall e exibindo o relatório de classificação.\n",
        "15. Discuta as descobertas e faça uma reflexão sobre a aplicação do PyTorch em problemas de classificação de dados do mundo real."
      ],
      "metadata": {
        "id": "VjH1wRln0iBK"
      }
    },
    {
      "cell_type": "markdown",
      "source": [
        "# 💡 Resolução"
      ],
      "metadata": {
        "id": "Ls_52iCi-ONC"
      }
    },
    {
      "cell_type": "code",
      "source": [
        "%%time\n",
        "#===============================================================\n",
        "# Questão 1\n",
        "#===============================================================\n",
        "file = 'Best Songs on Spotify from 2000-2023.csv'\n",
        "#===============================================================\n",
        "# Questão 2\n",
        "#===============================================================\n",
        "import statistics as stats\n",
        "import torch\n",
        "import torch.nn as nn\n",
        "import torch.optim as optim\n",
        "from torch.utils.data import DataLoader, Dataset, random_split\n",
        "from sklearn.preprocessing import OneHotEncoder\n",
        "import torchvision\n",
        "import numpy as np\n",
        "import pandas as pd\n",
        "import matplotlib.pyplot as plt\n",
        "from sklearn.metrics import accuracy_score,precision_score,recall_score, classification_report\n",
        "#===============================================================\n",
        "# Questão 3\n",
        "#===============================================================\n",
        "df = pd.read_csv(file, delimiter=';')\n",
        "#===============================================================\n",
        "# Questão 4\n",
        "#===============================================================\n",
        "df = df.dropna()\n",
        "df = df.drop_duplicates()\n",
        "# Categorizar a coluna \"popularity\"\n",
        "# criando dataframe para a variável target e outro para os dados para usar nos passos posteriores\n",
        "dftarget = df.copy()\n",
        "dftarget['popularity'] = pd.cut(dftarget['popularity'],\n",
        "                                bins=[min(dftarget['popularity']), stats.median(dftarget['popularity']), max(dftarget['popularity']), np.inf],\n",
        "                                labels=[0, 1, 2],include_lowest=True)\n",
        "#===============================================================\n",
        "# Questão 5\n",
        "#===============================================================\n",
        "#Método OneHotEncoding para as 2 variaveis em que foi aplicado\n",
        "ohe = OneHotEncoder()\n",
        "feature_arry = ohe.fit_transform(df[['artist']]).toarray()\n",
        "feature_labels = np.array(ohe.categories_).ravel()\n",
        "df_ohe = pd.DataFrame(feature_arry,columns=feature_labels)\n",
        "df = pd.concat([ df, df_ohe],axis=1)\n",
        "\n",
        "ohe = OneHotEncoder()\n",
        "feature_arry = ohe.fit_transform(df[['top genre']]).toarray()\n",
        "feature_labels = np.array(ohe.categories_).ravel()\n",
        "df_ohe = pd.DataFrame(feature_arry,columns=feature_labels)\n",
        "df = pd.concat([ df, df_ohe],axis=1)"
      ],
      "metadata": {
        "colab": {
          "base_uri": "https://localhost:8080/"
        },
        "id": "xEjNluqnAqit",
        "outputId": "344d64e3-ee99-4285-a32d-3210cb8a9344"
      },
      "execution_count": null,
      "outputs": [
        {
          "output_type": "stream",
          "name": "stdout",
          "text": [
            "CPU times: user 48 ms, sys: 990 µs, total: 49 ms\n",
            "Wall time: 49.1 ms\n"
          ]
        }
      ]
    },
    {
      "cell_type": "code",
      "source": [
        "#===============================================================\n",
        "# Questão 6\n",
        "#===============================================================\n",
        "# # Fazer escolha das variáveis pela variância dos dados\n",
        "df =  df.drop(columns=['artist','top genre'])\n",
        "lista_variaveis = []\n",
        "for column in  df.drop(columns=['popularity','title']).columns:\n",
        "  lista_variaveis.append([ df.drop(columns=['popularity'])[column].var(),column])\n",
        "lista_variaveis = sorted(lista_variaveis,reverse=True)\n",
        "print(lista_variaveis[:5])"
      ],
      "metadata": {
        "colab": {
          "base_uri": "https://localhost:8080/"
        },
        "id": "xvZXFrkzAt3C",
        "outputId": "95e63abf-bfb9-4d7c-aed7-b4cc536656dc"
      },
      "execution_count": null,
      "outputs": [
        {
          "output_type": "stream",
          "name": "stdout",
          "text": [
            "[[1868.547918337484, 'duration'], [743.8206217550969, 'bpm'], [504.36554071166273, 'valence'], [411.18699541316676, 'acousticness'], [261.29457388881855, 'energy']]\n"
          ]
        }
      ]
    },
    {
      "cell_type": "code",
      "source": [
        "#===============================================================\n",
        "# Questão 6 (Continuaçao)\n",
        "#===============================================================\n",
        "# Foram escolhidas 5 Variáveis: duration, bpm, valence, acousticness, energy.\n",
        "df = df[['duration','bpm','valence','acousticness','energy']]\n",
        "# Separar X e y em arquivos para proximas etapas\n",
        "# Foi criado o  dftarget para o target e o df para as variaveis\n",
        "#  dftarget no arquivo target e df em new\n",
        "# esses arquivos sao transformados para numpy e depois seus dados imputados na classe CTDataset\n",
        "dftarget =  dftarget[['popularity']]\n",
        "dftarget.to_csv('target_csv.csv', sep=',', index=False, encoding='utf-8')\n",
        "df.to_csv(\"new_csv.csv\", sep=',', index=False, encoding='utf-8')\n",
        "#dados em numpy\n",
        "df_np = np.loadtxt('new_csv.csv', dtype= np.float32, delimiter=\",\", skiprows=1)\n",
        "dftarget_np = np.loadtxt('target_csv.csv', dtype= np.float32, delimiter=\",\", skiprows=1)"
      ],
      "metadata": {
        "id": "j7ugZogAAz5z"
      },
      "execution_count": null,
      "outputs": []
    },
    {
      "cell_type": "code",
      "source": [
        "#===============================================================\n",
        "# Questão 7\n",
        "#===============================================================\n",
        "#dados em tensor torch\n",
        "df_torch = torch.from_numpy(df_np)\n",
        "dftarget_torch = torch.from_numpy( dftarget_np)\n",
        "#===============================================================\n",
        "# Questão 8\n",
        "#===============================================================\n",
        "class CTDataset(torch.utils.data.Dataset):\n",
        "    def __init__(self, features, labels):\n",
        "        self.features = features\n",
        "        self.labels = labels\n",
        "    def __len__(self):\n",
        "        return len(self.features)\n",
        "    def __getitem__(self, index):\n",
        "        X = self.features[index]\n",
        "        y = self.labels[index]\n",
        "        return X, y\n",
        "# dados pela classe CTDataset\n",
        "dataset = CTDataset(df_torch,  dftarget_torch)\n",
        "#===============================================================\n",
        "# Questão 9\n",
        "#===============================================================\n",
        "# taxas para divisao: treino 70% dados, validaçao 15% e teste 15%\n",
        "# Foi escolhido 70% pois traz mais dados que 60% e menos que 80%\n",
        "# uma vez que a rede neural precisa de muitos dados para aprender\n",
        "# e nao incorrer em cenario de underfitting\n",
        "# mas também pode aprender demais incorrendo em cenario de\n",
        "#overfitting\n",
        "# o restante foi dividido entre teste e validaçao com 15% para cada\n",
        "train_ratio = 0.7\n",
        "val_ratio = 0.15\n",
        "test_ratio = 0.15\n",
        "# Divisao dos dados\n",
        "num_samples = len(dataset)\n",
        "train_size = int(train_ratio * num_samples)\n",
        "val_size = int(val_ratio * num_samples)\n",
        "test_size = (len(dataset) - train_size - val_size)\n",
        "train_dataset, val_dataset, test_dataset = random_split(dataset, [train_size, val_size, test_size])\n",
        "#===============================================================\n",
        "# Questão 10\n",
        "#===============================================================\n",
        "train_loader = DataLoader(train_dataset, batch_size=32, shuffle=True)\n",
        "val_loader = DataLoader(val_dataset, batch_size=32, shuffle=False)\n",
        "test_loader = DataLoader(test_dataset, batch_size=32, shuffle=False)\n",
        "#===============================================================\n",
        "# Questão 11\n",
        "#===============================================================\n",
        "#model\n",
        "class RedeNeural(nn.Module):\n",
        "    def __init__(self):\n",
        "        super(RedeNeural, self).__init__()\n",
        "        self.fc1 = nn.Linear(5, 640)\n",
        "        self.fc2 = nn.Dropout(p=0.05)\n",
        "        self.fc3 = nn.Linear(640, 320)\n",
        "        self.fc4 = nn.Dropout(p=0.05)\n",
        "        self.fc5 = nn.Linear(320, 3)\n",
        "    def forward(self, x):\n",
        "        x = self.fc1(x)\n",
        "        x = self.fc2(x)\n",
        "        #funçao relu\n",
        "        x = torch.relu(self.fc3(x))\n",
        "        x = self.fc4(x)\n",
        "        x = self.fc5(x)\n",
        "        return x\n",
        "model = RedeNeural()\n",
        "#===============================================================\n",
        "# Questão 12\n",
        "#===============================================================\n",
        "criterion = nn.CrossEntropyLoss()\n",
        "#Learning rate escolhida de 0.005\n",
        "optimizer = optim.Adam(model.parameters(), lr=0.005)\n",
        "#===============================================================\n",
        "# Questão 13\n",
        "#===============================================================\n",
        "device = torch.device(\"cuda\" if torch.cuda.is_available() else \"cpu\")\n",
        "model.to(device)"
      ],
      "metadata": {
        "id": "-yx-Np-63gh8",
        "colab": {
          "base_uri": "https://localhost:8080/"
        },
        "outputId": "0b72bd31-b1f9-4f5a-ea28-f724e61dc1da"
      },
      "execution_count": null,
      "outputs": [
        {
          "output_type": "execute_result",
          "data": {
            "text/plain": [
              "RedeNeural(\n",
              "  (fc1): Linear(in_features=5, out_features=640, bias=True)\n",
              "  (fc2): Dropout(p=0.05, inplace=False)\n",
              "  (fc3): Linear(in_features=640, out_features=320, bias=True)\n",
              "  (fc4): Dropout(p=0.05, inplace=False)\n",
              "  (fc5): Linear(in_features=320, out_features=3, bias=True)\n",
              ")"
            ]
          },
          "metadata": {},
          "execution_count": 130
        }
      ]
    },
    {
      "cell_type": "code",
      "source": [
        "%%time\n",
        "#===============================================================\n",
        "# Questão 14\n",
        "#===============================================================\n",
        "#100 epocas escolhidas\n",
        "epocas = 100\n",
        "lista_perdas = []\n",
        "for epoca in range(epocas):\n",
        "    epoca_loss = 0.00\n",
        "    for features, popularity in train_loader:\n",
        "        features = features.to(device)\n",
        "        popularity = (popularity.to(device)).long()\n",
        "        optimizer.zero_grad()\n",
        "        outputs = model(features)\n",
        "        loss = criterion(outputs, popularity)\n",
        "        loss.backward()\n",
        "        optimizer.step()\n",
        "        epoca_loss += loss.item()\n",
        "    lista_perdas.append(round(epoca_loss/len(train_loader),3))\n",
        "    #perda média ao longo das iteraçoes considera o tamanho usado pra o treino\n",
        "    print('A Epoca é : ',(epoca+1/epocas),' e a perda média na iteraçao é: ',round(epoca_loss/len(train_loader),3) )"
      ],
      "metadata": {
        "colab": {
          "base_uri": "https://localhost:8080/"
        },
        "id": "DVtT-DIVs1Oe",
        "outputId": "3c7b7b25-e47c-4080-d732-416090b9886e"
      },
      "execution_count": null,
      "outputs": [
        {
          "output_type": "stream",
          "name": "stdout",
          "text": [
            "A Epoca é :  0.01  e a perda média na iteraçao é:  35.625\n",
            "A Epoca é :  1.01  e a perda média na iteraçao é:  1.909\n",
            "A Epoca é :  2.01  e a perda média na iteraçao é:  0.783\n",
            "A Epoca é :  3.01  e a perda média na iteraçao é:  0.804\n",
            "A Epoca é :  4.01  e a perda média na iteraçao é:  0.695\n",
            "A Epoca é :  5.01  e a perda média na iteraçao é:  0.688\n",
            "A Epoca é :  6.01  e a perda média na iteraçao é:  0.696\n",
            "A Epoca é :  7.01  e a perda média na iteraçao é:  0.785\n",
            "A Epoca é :  8.01  e a perda média na iteraçao é:  0.684\n",
            "A Epoca é :  9.01  e a perda média na iteraçao é:  0.69\n",
            "A Epoca é :  10.01  e a perda média na iteraçao é:  0.688\n",
            "A Epoca é :  11.01  e a perda média na iteraçao é:  0.69\n",
            "A Epoca é :  12.01  e a perda média na iteraçao é:  0.683\n",
            "A Epoca é :  13.01  e a perda média na iteraçao é:  0.689\n",
            "A Epoca é :  14.01  e a perda média na iteraçao é:  0.689\n",
            "A Epoca é :  15.01  e a perda média na iteraçao é:  0.691\n",
            "A Epoca é :  16.01  e a perda média na iteraçao é:  0.687\n",
            "A Epoca é :  17.01  e a perda média na iteraçao é:  0.697\n",
            "A Epoca é :  18.01  e a perda média na iteraçao é:  0.69\n",
            "A Epoca é :  19.01  e a perda média na iteraçao é:  0.689\n",
            "A Epoca é :  20.01  e a perda média na iteraçao é:  0.687\n",
            "A Epoca é :  21.01  e a perda média na iteraçao é:  0.699\n",
            "A Epoca é :  22.01  e a perda média na iteraçao é:  0.699\n",
            "A Epoca é :  23.01  e a perda média na iteraçao é:  0.695\n",
            "A Epoca é :  24.01  e a perda média na iteraçao é:  0.708\n",
            "A Epoca é :  25.01  e a perda média na iteraçao é:  0.704\n",
            "A Epoca é :  26.01  e a perda média na iteraçao é:  0.704\n",
            "A Epoca é :  27.01  e a perda média na iteraçao é:  0.688\n",
            "A Epoca é :  28.01  e a perda média na iteraçao é:  0.698\n",
            "A Epoca é :  29.01  e a perda média na iteraçao é:  0.691\n",
            "A Epoca é :  30.01  e a perda média na iteraçao é:  0.689\n",
            "A Epoca é :  31.01  e a perda média na iteraçao é:  0.7\n",
            "A Epoca é :  32.01  e a perda média na iteraçao é:  0.697\n",
            "A Epoca é :  33.01  e a perda média na iteraçao é:  0.693\n",
            "A Epoca é :  34.01  e a perda média na iteraçao é:  0.693\n",
            "A Epoca é :  35.01  e a perda média na iteraçao é:  0.694\n",
            "A Epoca é :  36.01  e a perda média na iteraçao é:  0.703\n",
            "A Epoca é :  37.01  e a perda média na iteraçao é:  0.699\n",
            "A Epoca é :  38.01  e a perda média na iteraçao é:  0.699\n",
            "A Epoca é :  39.01  e a perda média na iteraçao é:  0.698\n",
            "A Epoca é :  40.01  e a perda média na iteraçao é:  0.689\n",
            "A Epoca é :  41.01  e a perda média na iteraçao é:  0.694\n",
            "A Epoca é :  42.01  e a perda média na iteraçao é:  0.696\n",
            "A Epoca é :  43.01  e a perda média na iteraçao é:  0.714\n",
            "A Epoca é :  44.01  e a perda média na iteraçao é:  0.699\n",
            "A Epoca é :  45.01  e a perda média na iteraçao é:  0.72\n",
            "A Epoca é :  46.01  e a perda média na iteraçao é:  0.707\n",
            "A Epoca é :  47.01  e a perda média na iteraçao é:  0.708\n",
            "A Epoca é :  48.01  e a perda média na iteraçao é:  0.727\n",
            "A Epoca é :  49.01  e a perda média na iteraçao é:  0.705\n",
            "A Epoca é :  50.01  e a perda média na iteraçao é:  0.701\n",
            "A Epoca é :  51.01  e a perda média na iteraçao é:  0.727\n",
            "A Epoca é :  52.01  e a perda média na iteraçao é:  0.716\n",
            "A Epoca é :  53.01  e a perda média na iteraçao é:  0.7\n",
            "A Epoca é :  54.01  e a perda média na iteraçao é:  0.707\n",
            "A Epoca é :  55.01  e a perda média na iteraçao é:  1.018\n",
            "A Epoca é :  56.01  e a perda média na iteraçao é:  0.702\n",
            "A Epoca é :  57.01  e a perda média na iteraçao é:  0.701\n",
            "A Epoca é :  58.01  e a perda média na iteraçao é:  0.7\n",
            "A Epoca é :  59.01  e a perda média na iteraçao é:  0.699\n",
            "A Epoca é :  60.01  e a perda média na iteraçao é:  0.698\n",
            "A Epoca é :  61.01  e a perda média na iteraçao é:  0.696\n",
            "A Epoca é :  62.01  e a perda média na iteraçao é:  0.696\n",
            "A Epoca é :  63.01  e a perda média na iteraçao é:  0.696\n",
            "A Epoca é :  64.01  e a perda média na iteraçao é:  0.696\n",
            "A Epoca é :  65.01  e a perda média na iteraçao é:  0.694\n",
            "A Epoca é :  66.01  e a perda média na iteraçao é:  0.694\n",
            "A Epoca é :  67.01  e a perda média na iteraçao é:  0.695\n",
            "A Epoca é :  68.01  e a perda média na iteraçao é:  0.695\n",
            "A Epoca é :  69.01  e a perda média na iteraçao é:  0.694\n",
            "A Epoca é :  70.01  e a perda média na iteraçao é:  0.694\n",
            "A Epoca é :  71.01  e a perda média na iteraçao é:  0.693\n",
            "A Epoca é :  72.01  e a perda média na iteraçao é:  0.693\n",
            "A Epoca é :  73.01  e a perda média na iteraçao é:  0.694\n",
            "A Epoca é :  74.01  e a perda média na iteraçao é:  0.692\n",
            "A Epoca é :  75.01  e a perda média na iteraçao é:  0.694\n",
            "A Epoca é :  76.01  e a perda média na iteraçao é:  0.693\n",
            "A Epoca é :  77.01  e a perda média na iteraçao é:  0.693\n",
            "A Epoca é :  78.01  e a perda média na iteraçao é:  0.693\n",
            "A Epoca é :  79.01  e a perda média na iteraçao é:  0.692\n",
            "A Epoca é :  80.01  e a perda média na iteraçao é:  0.693\n",
            "A Epoca é :  81.01  e a perda média na iteraçao é:  0.692\n",
            "A Epoca é :  82.01  e a perda média na iteraçao é:  0.692\n",
            "A Epoca é :  83.01  e a perda média na iteraçao é:  0.693\n",
            "A Epoca é :  84.01  e a perda média na iteraçao é:  0.693\n",
            "A Epoca é :  85.01  e a perda média na iteraçao é:  0.693\n",
            "A Epoca é :  86.01  e a perda média na iteraçao é:  0.692\n",
            "A Epoca é :  87.01  e a perda média na iteraçao é:  0.692\n",
            "A Epoca é :  88.01  e a perda média na iteraçao é:  0.692\n",
            "A Epoca é :  89.01  e a perda média na iteraçao é:  0.833\n",
            "A Epoca é :  90.01  e a perda média na iteraçao é:  0.693\n",
            "A Epoca é :  91.01  e a perda média na iteraçao é:  0.692\n",
            "A Epoca é :  92.01  e a perda média na iteraçao é:  0.692\n",
            "A Epoca é :  93.01  e a perda média na iteraçao é:  0.693\n",
            "A Epoca é :  94.01  e a perda média na iteraçao é:  0.694\n",
            "A Epoca é :  95.01  e a perda média na iteraçao é:  0.692\n",
            "A Epoca é :  96.01  e a perda média na iteraçao é:  0.692\n",
            "A Epoca é :  97.01  e a perda média na iteraçao é:  0.692\n",
            "A Epoca é :  98.01  e a perda média na iteraçao é:  0.693\n",
            "A Epoca é :  99.01  e a perda média na iteraçao é:  0.692\n",
            "CPU times: user 32 s, sys: 126 ms, total: 32.1 s\n",
            "Wall time: 37.1 s\n"
          ]
        }
      ]
    },
    {
      "cell_type": "code",
      "source": [
        "#===============================================================\n",
        "# Questão 14 (Continuaçao Plot)\n",
        "#===============================================================\n",
        "plt.plot(range(100),lista_perdas,color='gray')\n",
        "plt.title('Perda média por épocas')\n",
        "plt.savefig('épocas.pdf')\n",
        "plt.show()"
      ],
      "metadata": {
        "colab": {
          "base_uri": "https://localhost:8080/",
          "height": 453
        },
        "id": "Fsl5WIYBrU8j",
        "outputId": "0786ca15-f77b-46a7-80a7-b9dbdc1df7a9"
      },
      "execution_count": null,
      "outputs": [
        {
          "output_type": "display_data",
          "data": {
            "text/plain": [
              "<Figure size 640x480 with 1 Axes>"
            ],
            "image/png": "[encoded data removed]"
          },
          "metadata": {}
        }
      ]
    },
    {
      "cell_type": "code",
      "source": [
        "#===============================================================\n",
        "# Questão 14 (Continuaçao Plot)\n",
        "#===============================================================\n",
        "plt.plot(range(95),lista_perdas[5:],color='gray')\n",
        "plt.title('Perda média por épocas - A partir da 5 época')\n",
        "print(\"O eixo X o 0 corresponde a 5 época e sao represetadas 95.\")\n",
        "plt.savefig('5 épocas.pdf')\n",
        "plt.show()"
      ],
      "metadata": {
        "colab": {
          "base_uri": "https://localhost:8080/",
          "height": 470
        },
        "id": "CvTXgGnYMZB_",
        "outputId": "b7d874cc-0de5-429e-a832-cc81ef593d42"
      },
      "execution_count": null,
      "outputs": [
        {
          "output_type": "stream",
          "name": "stdout",
          "text": [
            "O eixo X o 0 corresponde a 5 época e sao represetadas 95.\n"
          ]
        },
        {
          "output_type": "display_data",
          "data": {
            "text/plain": [
              "<Figure size 640x480 with 1 Axes>"
            ],
            "image/png": "[encoded data removed]"
          },
          "metadata": {}
        }
      ]
    },
    {
      "cell_type": "code",
      "source": [
        "#===============================================================\n",
        "# Questão 15\n",
        "#===============================================================\n",
        "import warnings\n",
        "warnings.filterwarnings(\"ignore\")\n",
        "#model.eval()\n",
        "predicted_labels = []\n",
        "true_labels = []\n",
        "#calculo pelo torch dos preditos corretos e do total\n",
        "with torch.no_grad():\n",
        "    for features, popularity in test_loader:\n",
        "        features = features.to(device)\n",
        "        popularity = popularity.to(device)\n",
        "        outputs = model(features)\n",
        "        _, predicted = torch.max(outputs.data, 1)\n",
        "        predicted_labels.extend(predicted.cpu().numpy())  # Collect predicted labels\n",
        "        true_labels.extend(popularity.cpu().numpy())  # Collect true labels\n",
        "\n",
        "acuracia = 100 * accuracy_score(true_labels,predicted_labels)\n",
        "precisao = 100*precision_score(true_labels, predicted_labels, average='weighted')\n",
        "recall = 100*recall_score(true_labels, predicted_labels, average='weighted')\n",
        "class_report = classification_report(true_labels, predicted_labels)\n",
        "print(\"Acuracia: \",round(acuracia,2), \" Precisao: \", round(precisao,2), \"Recall\", round(recall,2))\n",
        "report = classification_report(true_labels, predicted_labels)\n",
        "print(\"Classification Report:\")\n",
        "print(class_report)"
      ],
      "metadata": {
        "colab": {
          "base_uri": "https://localhost:8080/"
        },
        "id": "YXjCO7Z4s254",
        "outputId": "171e6373-9b6f-496f-ac90-2dee92dafab2"
      },
      "execution_count": null,
      "outputs": [
        {
          "output_type": "stream",
          "name": "stdout",
          "text": [
            "Acuracia:  51.81  Precisao:  26.84 Recall 51.81\n",
            "Classification Report:\n",
            "              precision    recall  f1-score   support\n",
            "\n",
            "         0.0       0.52      1.00      0.68       186\n",
            "         1.0       0.00      0.00      0.00       173\n",
            "\n",
            "    accuracy                           0.52       359\n",
            "   macro avg       0.26      0.50      0.34       359\n",
            "weighted avg       0.27      0.52      0.35       359\n",
            "\n"
          ]
        }
      ]
    },
    {
      "cell_type": "markdown",
      "source": [
        "**Questao 16)**\n",
        "\n",
        "**Discuta as descobertas e faça uma reflexão sobre a aplicação do PyTorch em problemas de classificação de dados do mundo real.**\n",
        "\n",
        "Quanto à classificação dos dados das classes obtidas pela variável popularity do conjunto de dados utilizado, o desempenho do modelo foi em torno de 51% de acurácia. Foram consideradas 3 classes, o que pode ter impactado nesse desempenho. Do conjunto de dados todo, foram selecionadas 5 features como variáveis preditoras, as quais apresentaram uma maior variabilidade nos dados.\n",
        "\n",
        "\n",
        "A precisão, que considera a taxa verdadeiros positivos por todos positivos, foi em torno de 26%. O recall foi em torno de 51%. Esses resultados indicam que se a recall foi maior que a precisão, existe um número menor de falsos negativos que falsos positivos (FN < FP).\n",
        "\n",
        "\n",
        "Quanto a perda média por épocas, elas reduziram a cada iteração, apresentando no gráfico *Perda Média por épocas* uma queda maior após as primeiras épocas. Foi considerado 100 épocas para assegurar que o modelo poderia aprender melhor. Vale notar que esse resultado foi obtido usando a função de ativação ReLu. Nota-se pelo segundo gráfico plotado a partir da 5 época que a variação foi estabilizada quando o número de épocas foi entre 60 e 80, demonstrando que esse poderia ser um valor de época adotado ao invés de 100, pois o modelo já demonstrou uma estabilização no aprendizado a partir da 60.\n",
        "\n",
        "\n",
        "O Pytorch é um framework que suporta problemas de deep learning com dados em formato de tensor. Problemas que não se sabe as features ou que não precisam tanto da interpretabilidade do modelo, mas dos resultados dele, que seja ideal que o modelo apresente um baixo viés ou ainda que tenham uma quantidade expressiva de dados disponíveis se enquadram em problemas que favorecem a adoção para modelos de deep learning e por isso provavelmente podem ser criadas soluções computacionais através do pytorch.\n",
        "\n",
        "\n",
        "Alguns casos de problemas que podem ser citados se encaixam em aplicações tais quais o processamento de linguagem natural, tecnologias de fala e visão computacional. Todas essas áreas utilizam redes neurais, seja para aprender o padrão nos dados das palavras, o reconhecimento de sinais e a detecção de objetos. O Pytorch permite a construção dos tensores e tem uma rápida performance, o que beneficia sua adoção nestes casos.\n",
        "\n",
        "Por fim, uma solução computacional existente, usada na indústria e comunidade científica, que se baseia no Pytorch é o **Detectron2**. Ela é aplicada em tarefas de visão computacional e detecção de objetos e foi desenvolvida pelo Facebook AI Research. Ele consiste num framework para tarefas de detecção, segmentação, inclusive semântica, e reconhecimento visual. Além disso, Detectron2 oferece uma API flexível e extensível para personalização e experimentação rápida. Isso permitiu a adoção generalizada do framework em várias aplicações do mundo real, incluindo sistemas de segurança baseados em vídeo, análise de tráfego, detecção de objetos em tempo real em câmeras de veículos autônomos e muito mais.\n",
        "\n",
        "\n",
        "A escolha do PyTorch como base para o Detectron2 demonstra a adequação, a confiança e o sucesso da biblioteca no campo de visão computacional. A flexibilidade, eficiência computacional e a comunidade ativa do PyTorch têm contribuído para o desenvolvimento de soluções inovadoras e de alto desempenho para desafios complexos em detecção de objetos e outras tarefas de visão computacional."
      ],
      "metadata": {
        "id": "cRlbl-C-Vv_6"
      }
    }
  ]
}