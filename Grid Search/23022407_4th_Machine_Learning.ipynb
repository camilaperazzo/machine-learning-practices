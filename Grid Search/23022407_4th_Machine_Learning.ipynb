{
  "nbformat": 4,
  "nbformat_minor": 0,
  "metadata": {
    "colab": {
      "provenance": []
    },
    "kernelspec": {
      "name": "python3",
      "display_name": "Python 3"
    },
    "language_info": {
      "name": "python"
    }
  },
  "cells": [
    {
      "cell_type": "markdown",
      "source": [
        "# ✨ Apresentação"
      ],
      "metadata": {
        "id": "O9bEIUA93QmC"
      }
    },
    {
      "cell_type": "markdown",
      "source": [
        " Curso : Machine Learning\n"
      ],
      "metadata": {
        "id": "epLozVA8q3E_"
      }
    },
    {
      "cell_type": "markdown",
      "source": [
        " Alunas: Camila Perazzo"
      ],
      "metadata": {
        "id": "6IKshMO8rHoA"
      }
    },
    {
      "cell_type": "markdown",
      "source": [
        "Implementação de modelos e verificação de eficiência da estratégia adotada com redes neurais e busca de parâmetros por grid search/random search - 19/06/2023."
      ],
      "metadata": {
        "id": "w0n6uciw280C"
      }
    },
    {
      "cell_type": "markdown",
      "source": [
        "# 💡 Questões"
      ],
      "metadata": {
        "id": "3VdQRPkI0MUe"
      }
    },
    {
      "cell_type": "markdown",
      "source": [
        "**Você pode utilizar as bibliotecas matplotlib ou outras ferramentas de visualização para analisar os resultados e apresentar gráficos informativos.**"
      ],
      "metadata": {
        "id": "P3B4Fh5HXSi5"
      }
    },
    {
      "cell_type": "markdown",
      "source": [
        "### Passos a seguir:\n",
        "\n",
        "1. Faça as seguintes importações:\n",
        "\n",
        "  (a) Dataset Breast Cancer a partir da biblioteca sklearn;\n",
        "\n",
        "  (b) O classificador MLPClassifier a partir da biblioteca sklearn.neural_network;\n",
        "\n",
        "  (c) O método GridSearchCV a partir da biblioteca sklearn.model_selection.\n",
        "\n",
        "2. Crie o modelo do classificador, criando a rede MPL através da função MLPClassifier e defina um valor para o\n",
        "parâmetro max_iter.\n",
        "3. Crie o mapa de buscas utilizando o conceito de dicionários, conforme o trecho de código a seguir:"
      ],
      "metadata": {
        "id": "VjH1wRln0iBK"
      }
    },
    {
      "cell_type": "markdown",
      "source": [
        "![image.png](data:image/png;base64,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)\n",
        "\n",
        "  * Para tal fim, **teste dois** valores diferentes para o hiperparâmetro alpha e **duas estruturas** diferentes de redes para o parâmetro hiddel_layer_sizes, que define o número de camadas ocultas e o número de neurônios.\n"
      ],
      "metadata": {
        "id": "AthHoxSPyd3B"
      }
    },
    {
      "cell_type": "markdown",
      "source": [
        "4. Utilize a função GridSearchCV para realizar a busca considere os parâmetros n_jobs e cv iguais a 1 e 5, respectivamente.\n",
        "\n",
        "5. Verifique os melhores hiperparâmetros encontrados no modelo através do método best_params_.\n",
        "\n",
        "6. Utilize a função classification_report da biblioteca sklearn para verificar a eficiência do modelo em termos\n",
        "das métricas de avaliação de classificação."
      ],
      "metadata": {
        "id": "guZdOT6XyipG"
      }
    },
    {
      "cell_type": "markdown",
      "source": [
        "# 🎲 Execução da Atividade"
      ],
      "metadata": {
        "id": "d6mcxOeUEiyv"
      }
    },
    {
      "cell_type": "code",
      "source": [
        "# Passo 1: Importar bibliotecas e carregar o conjunto de dados\n",
        "\n",
        "from sklearn.datasets import load_breast_cancer\n",
        "from sklearn.neural_network import MLPClassifier\n",
        "from sklearn.model_selection import GridSearchCV\n",
        "from sklearn.model_selection import train_test_split\n",
        "from sklearn.metrics import classification_report\n",
        "\n",
        "data = load_breast_cancer()\n",
        "X = data.data\n",
        "y = data.target"
      ],
      "metadata": {
        "id": "naj1XwRgz_YB"
      },
      "execution_count": null,
      "outputs": []
    },
    {
      "cell_type": "code",
      "source": [
        "# Passo 2: Criar o modelo do classificador MLP\n",
        "\n",
        "classifier = MLPClassifier(max_iter=100)\n"
      ],
      "metadata": {
        "id": "dRfeNcfI0KTo"
      },
      "execution_count": null,
      "outputs": []
    },
    {
      "cell_type": "code",
      "source": [
        "# Passo 3: Definir o mapa de busca\n",
        "\n",
        "parameter_space = {\n",
        "    'hidden_layer_sizes': [(10,), (20,)],\n",
        "    'activation': ['tanh', 'relu'],\n",
        "    'solver': ['sgd', 'adam'],\n",
        "    'alpha': [0.0001, 0.001],\n",
        "    'learning_rate': ['constant', 'adaptive']\n",
        "}"
      ],
      "metadata": {
        "id": "7OiChha20M8A"
      },
      "execution_count": null,
      "outputs": []
    },
    {
      "cell_type": "code",
      "source": [
        "# Passo 4: Realizar a busca em grade\n",
        "\n",
        "grid_search = GridSearchCV(classifier, parameter_space, n_jobs=1, cv=5)\n",
        "grid_search.fit(X, y)"
      ],
      "metadata": {
        "colab": {
          "base_uri": "https://localhost:8080/",
          "height": 273
        },
        "id": "Ati8hNgr0Ozg",
        "outputId": "b8e4ad9d-939b-430a-b31f-04866b134d39"
      },
      "execution_count": null,
      "outputs": [
        {
          "output_type": "execute_result",
          "data": {
            "text/plain": [
              "GridSearchCV(cv=5, estimator=MLPClassifier(max_iter=100), n_jobs=1,\n",
              "             param_grid={'activation': ['tanh', 'relu'],\n",
              "                         'alpha': [0.0001, 0.001],\n",
              "                         'hidden_layer_sizes': [(10,), (20,)],\n",
              "                         'learning_rate': ['constant', 'adaptive'],\n",
              "                         'solver': ['sgd', 'adam']})"
            ],
            "text/html": [
              "<style>#sk-container-id-7 {color: black;background-color: white;}#sk-container-id-7 pre{padding: 0;}#sk-container-id-7 div.sk-toggleable {background-color: white;}#sk-container-id-7 label.sk-toggleable__label {cursor: pointer;display: block;width: 100%;margin-bottom: 0;padding: 0.3em;box-sizing: border-box;text-align: center;}#sk-container-id-7 label.sk-toggleable__label-arrow:before {content: \"▸\";float: left;margin-right: 0.25em;color: #696969;}#sk-container-id-7 label.sk-toggleable__label-arrow:hover:before {color: black;}#sk-container-id-7 div.sk-estimator:hover label.sk-toggleable__label-arrow:before {color: black;}#sk-container-id-7 div.sk-toggleable__content {max-height: 0;max-width: 0;overflow: hidden;text-align: left;background-color: #f0f8ff;}#sk-container-id-7 div.sk-toggleable__content pre {margin: 0.2em;color: black;border-radius: 0.25em;background-color: #f0f8ff;}#sk-container-id-7 input.sk-toggleable__control:checked~div.sk-toggleable__content {max-height: 200px;max-width: 100%;overflow: auto;}#sk-container-id-7 input.sk-toggleable__control:checked~label.sk-toggleable__label-arrow:before {content: \"▾\";}#sk-container-id-7 div.sk-estimator input.sk-toggleable__control:checked~label.sk-toggleable__label {background-color: #d4ebff;}#sk-container-id-7 div.sk-label input.sk-toggleable__control:checked~label.sk-toggleable__label {background-color: #d4ebff;}#sk-container-id-7 input.sk-hidden--visually {border: 0;clip: rect(1px 1px 1px 1px);clip: rect(1px, 1px, 1px, 1px);height: 1px;margin: -1px;overflow: hidden;padding: 0;position: absolute;width: 1px;}#sk-container-id-7 div.sk-estimator {font-family: monospace;background-color: #f0f8ff;border: 1px dotted black;border-radius: 0.25em;box-sizing: border-box;margin-bottom: 0.5em;}#sk-container-id-7 div.sk-estimator:hover {background-color: #d4ebff;}#sk-container-id-7 div.sk-parallel-item::after {content: \"\";width: 100%;border-bottom: 1px solid gray;flex-grow: 1;}#sk-container-id-7 div.sk-label:hover label.sk-toggleable__label {background-color: #d4ebff;}#sk-container-id-7 div.sk-serial::before {content: \"\";position: absolute;border-left: 1px solid gray;box-sizing: border-box;top: 0;bottom: 0;left: 50%;z-index: 0;}#sk-container-id-7 div.sk-serial {display: flex;flex-direction: column;align-items: center;background-color: white;padding-right: 0.2em;padding-left: 0.2em;position: relative;}#sk-container-id-7 div.sk-item {position: relative;z-index: 1;}#sk-container-id-7 div.sk-parallel {display: flex;align-items: stretch;justify-content: center;background-color: white;position: relative;}#sk-container-id-7 div.sk-item::before, #sk-container-id-7 div.sk-parallel-item::before {content: \"\";position: absolute;border-left: 1px solid gray;box-sizing: border-box;top: 0;bottom: 0;left: 50%;z-index: -1;}#sk-container-id-7 div.sk-parallel-item {display: flex;flex-direction: column;z-index: 1;position: relative;background-color: white;}#sk-container-id-7 div.sk-parallel-item:first-child::after {align-self: flex-end;width: 50%;}#sk-container-id-7 div.sk-parallel-item:last-child::after {align-self: flex-start;width: 50%;}#sk-container-id-7 div.sk-parallel-item:only-child::after {width: 0;}#sk-container-id-7 div.sk-dashed-wrapped {border: 1px dashed gray;margin: 0 0.4em 0.5em 0.4em;box-sizing: border-box;padding-bottom: 0.4em;background-color: white;}#sk-container-id-7 div.sk-label label {font-family: monospace;font-weight: bold;display: inline-block;line-height: 1.2em;}#sk-container-id-7 div.sk-label-container {text-align: center;}#sk-container-id-7 div.sk-container {/* jupyter's `normalize.less` sets `[hidden] { display: none; }` but bootstrap.min.css set `[hidden] { display: none !important; }` so we also need the `!important` here to be able to override the default hidden behavior on the sphinx rendered scikit-learn.org. See: https://github.com/scikit-learn/scikit-learn/issues/21755 */display: inline-block !important;position: relative;}#sk-container-id-7 div.sk-text-repr-fallback {display: none;}</style><div id=\"sk-container-id-7\" class=\"sk-top-container\"><div class=\"sk-text-repr-fallback\"><pre>GridSearchCV(cv=5, estimator=MLPClassifier(max_iter=100), n_jobs=1,\n",
              "             param_grid={&#x27;activation&#x27;: [&#x27;tanh&#x27;, &#x27;relu&#x27;],\n",
              "                         &#x27;alpha&#x27;: [0.0001, 0.001],\n",
              "                         &#x27;hidden_layer_sizes&#x27;: [(10,), (20,)],\n",
              "                         &#x27;learning_rate&#x27;: [&#x27;constant&#x27;, &#x27;adaptive&#x27;],\n",
              "                         &#x27;solver&#x27;: [&#x27;sgd&#x27;, &#x27;adam&#x27;]})</pre><b>In a Jupyter environment, please rerun this cell to show the HTML representation or trust the notebook. <br />On GitHub, the HTML representation is unable to render, please try loading this page with nbviewer.org.</b></div><div class=\"sk-container\" hidden><div class=\"sk-item sk-dashed-wrapped\"><div class=\"sk-label-container\"><div class=\"sk-label sk-toggleable\"><input class=\"sk-toggleable__control sk-hidden--visually\" id=\"sk-estimator-id-19\" type=\"checkbox\" ><label for=\"sk-estimator-id-19\" class=\"sk-toggleable__label sk-toggleable__label-arrow\">GridSearchCV</label><div class=\"sk-toggleable__content\"><pre>GridSearchCV(cv=5, estimator=MLPClassifier(max_iter=100), n_jobs=1,\n",
              "             param_grid={&#x27;activation&#x27;: [&#x27;tanh&#x27;, &#x27;relu&#x27;],\n",
              "                         &#x27;alpha&#x27;: [0.0001, 0.001],\n",
              "                         &#x27;hidden_layer_sizes&#x27;: [(10,), (20,)],\n",
              "                         &#x27;learning_rate&#x27;: [&#x27;constant&#x27;, &#x27;adaptive&#x27;],\n",
              "                         &#x27;solver&#x27;: [&#x27;sgd&#x27;, &#x27;adam&#x27;]})</pre></div></div></div><div class=\"sk-parallel\"><div class=\"sk-parallel-item\"><div class=\"sk-item\"><div class=\"sk-label-container\"><div class=\"sk-label sk-toggleable\"><input class=\"sk-toggleable__control sk-hidden--visually\" id=\"sk-estimator-id-20\" type=\"checkbox\" ><label for=\"sk-estimator-id-20\" class=\"sk-toggleable__label sk-toggleable__label-arrow\">estimator: MLPClassifier</label><div class=\"sk-toggleable__content\"><pre>MLPClassifier(max_iter=100)</pre></div></div></div><div class=\"sk-serial\"><div class=\"sk-item\"><div class=\"sk-estimator sk-toggleable\"><input class=\"sk-toggleable__control sk-hidden--visually\" id=\"sk-estimator-id-21\" type=\"checkbox\" ><label for=\"sk-estimator-id-21\" class=\"sk-toggleable__label sk-toggleable__label-arrow\">MLPClassifier</label><div class=\"sk-toggleable__content\"><pre>MLPClassifier(max_iter=100)</pre></div></div></div></div></div></div></div></div></div></div>"
            ]
          },
          "metadata": {},
          "execution_count": 43
        }
      ]
    },
    {
      "cell_type": "code",
      "source": [
        "# Passo 5: Verificar os melhores hiperparâmetros encontrados\n",
        "best_params = grid_search.best_params_\n",
        "print(\"Melhores hiperparâmetros encontrados:\", best_params)"
      ],
      "metadata": {
        "colab": {
          "base_uri": "https://localhost:8080/"
        },
        "id": "vSxvy2A_0Q_g",
        "outputId": "95664c31-4705-46ef-b0a2-c61488b215b2"
      },
      "execution_count": null,
      "outputs": [
        {
          "output_type": "stream",
          "name": "stdout",
          "text": [
            "Melhores hiperparâmetros encontrados: {'activation': 'relu', 'alpha': 0.001, 'hidden_layer_sizes': (20,), 'learning_rate': 'adaptive', 'solver': 'adam'}\n"
          ]
        }
      ]
    },
    {
      "cell_type": "code",
      "source": [
        "# Passo 6: Avaliar o modelo utilizando classification_report\n",
        "\n",
        "X_train, X_test, y_train, y_test = train_test_split(X, y, test_size=0.2, random_state=42)\n",
        "best_classifier = MLPClassifier(max_iter=100, **best_params)\n",
        "best_classifier.fit(X_train, y_train)\n",
        "y_pred = best_classifier.predict(X_test)\n",
        "report = classification_report(y_test, y_pred)\n",
        "\n",
        "print(\"Relatório de classificação:\")\n",
        "print(report)"
      ],
      "metadata": {
        "colab": {
          "base_uri": "https://localhost:8080/"
        },
        "id": "FMYwVMDl0TmI",
        "outputId": "7b14c3bc-8323-4d9e-c2bd-c3dc019e1dc8"
      },
      "execution_count": null,
      "outputs": [
        {
          "output_type": "stream",
          "name": "stdout",
          "text": [
            "Relatório de classificação:\n",
            "              precision    recall  f1-score   support\n",
            "\n",
            "           0       0.91      0.91      0.91        43\n",
            "           1       0.94      0.94      0.94        71\n",
            "\n",
            "    accuracy                           0.93       114\n",
            "   macro avg       0.93      0.93      0.93       114\n",
            "weighted avg       0.93      0.93      0.93       114\n",
            "\n"
          ]
        }
      ]
    }
  ]
}